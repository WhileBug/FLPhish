{
 "cells": [
  {
   "cell_type": "code",
   "execution_count": null,
   "id": "d032829c",
   "metadata": {},
   "outputs": [],
   "source": [
    "import pandas as pd\n",
    "import matplotlib.pyplot as plt\n",
    "import seaborn as sns\n",
    "import numpy as np\n",
    "from collections import OrderedDict\n",
    "%matplotlib inline"
   ]
  },
  {
   "cell_type": "code",
   "execution_count": null,
   "id": "1462415e",
   "metadata": {},
   "outputs": [],
   "source": [
    "def original_data_func(attack_type=\"random\", x_axis=\"byzantines\", dataset='mnist'):\n",
    "    file_addr = attack_type + \"_\" + x_axis\n",
    "    \n",
    "    mnist_list = ['mnist.1','mnist.2','mnist.3','mnist.4','mnist.5',]\n",
    "    fashion_list = ['fashion.1','fashion.2','fashion.3','fashion.4','fashion.5',]\n",
    "    cifar_list = ['cifar.1', 'cifar.2', 'cifar.3', 'cifar.4', 'cifar.5', ]\n",
    "\n",
    "    framework_list = ['FedAvg', 'FLPhish(τ=0.1)', 'FLPhish(τ=0.2)', 'FLPhish(τ=0.5)', 'FLPhish(weight)']\n",
    "    byzantines_list = [0.1,0.2,0.3,0.4,0.5,0.6,0.7,0.8,0.9]\n",
    "    imbalances_list = [0.1,0.2,0.5,0.6,0.7,0.8]\n",
    "    \n",
    "    df = pd.read_csv(\"FLPhish_plots/\"+file_addr+\"/\"+file_addr+\".csv\", sep=\"\\t\", index_col=0)\n",
    "    df=df.dropna(axis=0)\n",
    "    \n",
    "    if(dataset=='mnist'):\n",
    "        df = df[mnist_list]\n",
    "    elif(dataset=='fashion'):\n",
    "        df = df[fashion_list]\n",
    "    elif(dataset=='cifar'):\n",
    "        df = df[cifar_list]\n",
    "    df.columns = framework_list\n",
    "    return df"
   ]
  },
  {
   "cell_type": "code",
   "execution_count": null,
   "id": "da43f282",
   "metadata": {},
   "outputs": [],
   "source": [
    "def sota_data_func(attack_type='random', x_axis=\"byzantines\", dataset='mnist', defense_method = \"Median\"):\n",
    "    \n",
    "    folder_addr = \"sota_data/\"+defense_method+\"/\"+attack_type+\"/\"+dataset+\"/\"\n",
    "    byzantines_list = [0.1,0.2,0.3,0.4,0.5,0.6,0.7,0.8,0.9]\n",
    "    \n",
    "    accuracy_list = []\n",
    "    if(x_axis==\"byzantines\"):\n",
    "        for byzantine in byzantines_list:\n",
    "            temp_df = pd.read_csv(folder_addr+str(byzantine)+\".csv\", index_col=0)\n",
    "            if(byzantine==0.5):\n",
    "                accuracy_val = temp_df.iloc[2,-1]\n",
    "            else:\n",
    "                accuracy_val = temp_df.iloc[0,-1]\n",
    "            accuracy_list.append(accuracy_val)\n",
    "\n",
    "    if(x_axis == \"imbalances\"):\n",
    "        temp_df = pd.read_csv(folder_addr+\"0.5.csv\", index_col=0)\n",
    "        accuracy_list = list(temp_df.iloc[:,-1])\n",
    "    return accuracy_list"
   ]
  },
  {
   "cell_type": "code",
   "execution_count": null,
   "id": "66ca9cd8",
   "metadata": {},
   "outputs": [],
   "source": [
    "def all_data(attack_type=\"random\", x_axis=\"byzantines\", dataset='mnist'):\n",
    "    original_data =  original_data_func(attack_type, x_axis, dataset)\n",
    "    median_accuracy_list = sota_data_func(attack_type, x_axis, dataset, \"Median\")\n",
    "    trimmed_accuracy_list = sota_data_func(attack_type, x_axis, dataset, \"TrimmedMean\")\n",
    "    \n",
    "    \n",
    "    original_data['median']=median_accuracy_list\n",
    "    original_data['trimmed mean']=trimmed_accuracy_list\n",
    "    \n",
    "    return original_data"
   ]
  },
  {
   "cell_type": "code",
   "execution_count": null,
   "id": "38e36ce4",
   "metadata": {},
   "outputs": [],
   "source": [
    "def bar_plot(attack_type=\"random\", x_axis=\"byzantines\"):\n",
    "    sns.set(font_scale =1.3)\n",
    "    sns.set_style(\"whitegrid\")\n",
    "    #import matplotlib.pyplot as plt\n",
    "    \n",
    "    #plt.legend(fontsize=1)\n",
    "    \n",
    "    \n",
    "    mnist_temp_df = all_data(attack_type, x_axis, \"mnist\").iloc[-1,:]\n",
    "    fashion_temp_df = all_data(attack_type, x_axis, \"fashion\").iloc[-1,:]\n",
    "    cifar_temp_df = all_data(attack_type, x_axis, \"cifar\").iloc[-1,:]\n",
    "    \n",
    "    framework_list = ['FedAvg', \"median\", \"trimmed mean\", 'FLPhish(τ=0.1)', 'FLPhish(τ=0.2)', 'FLPhish(τ=0.5)', 'FLPhish(weight)']*3\n",
    "    accuracy_table = {}\n",
    "    for framework in framework_list:\n",
    "        accuracy_table[framework]=[]\n",
    "        accuracy_table[framework].append(mnist_temp_df[framework])\n",
    "        accuracy_table[framework].append(fashion_temp_df[framework])\n",
    "        accuracy_table[framework].append(cifar_temp_df[framework])\n",
    "    X = np.arange(3)\n",
    "    fig = plt.figure(figsize=(10,5), dpi=200)\n",
    "    #添加子图区域\n",
    "    \n",
    "    ax = fig.add_axes([0,0,1,1])\n",
    "    #绘制柱状图\n",
    "    color_list = ['b', 'orange', 'g', 'tomato', 'royalblue', 'slategray', 'crimson']\n",
    "    bar_list = []\n",
    "    for framework in framework_list:\n",
    "        framework_index = framework_list.index(framework)\n",
    "        if(framework==\"median\"):\n",
    "            legend_label = \"Median[29]\"\n",
    "        elif(framework==\"trimmed mean\"):\n",
    "            legend_label = \"Trimmed Mean[29]\"\n",
    "        elif(framework==\"FedAvg\"):\n",
    "            legend_label = \"FedAvg[1]\"\n",
    "        elif(framework==\"FLPhish(τ=0.1)[48]\"):\n",
    "            legend_label = \"FLPhish(τ=0.1)[48]\"\n",
    "        elif(framework==\"FLPhish(τ=0.2)[48]\"):\n",
    "            legend_label = \"FLPhish(τ=0.2)[48]\"\n",
    "        elif(framework==\"FLPhish(τ=0.5)[48]\"):\n",
    "            legend_label = \"FLPhish(τ=0.5)[48]\"\n",
    "        else:\n",
    "            legend_label = framework\n",
    "        ax.bar(X + 0.1325*framework_index, accuracy_table[framework], color = color_list[framework_index], width = 0.1, label=legend_label, edgecolor='black')\n",
    "    handles, labels = plt.gca().get_legend_handles_labels()\n",
    "    by_label = OrderedDict(zip(labels, handles))\n",
    "    plt.legend(by_label.values(), by_label.keys(), fontsize=17)\n",
    "    plt.xticks(np.arange(0.4, 3.4), (\"MNIST\", \"Fashion-MNIST\", \"CIFAR-10\"), fontsize=23)\n",
    "    plt.ylim(0, 100)\n",
    "    plt.ylabel('Accuracy(%)', fontsize=22)\n",
    "    #plot_fig = plot_fig.get_figure()\n",
    "    plt.savefig(\"plots\"+\"/\"+\"bar_\"+x_axis+\"_\"+ attack_type +\"_bar.pdf\",bbox_inches = 'tight')"
   ]
  },
  {
   "cell_type": "code",
   "execution_count": null,
   "id": "3afb1f7e",
   "metadata": {},
   "outputs": [],
   "source": [
    "bar_plot('random', 'imbalances')"
   ]
  },
  {
   "cell_type": "code",
   "execution_count": null,
   "id": "f598f4c6",
   "metadata": {},
   "outputs": [],
   "source": [
    "bar_plot('random', 'byzantines')"
   ]
  },
  {
   "cell_type": "code",
   "execution_count": null,
   "id": "e264a5b4",
   "metadata": {},
   "outputs": [],
   "source": [
    "bar_plot('untargeted', 'imbalances')"
   ]
  },
  {
   "cell_type": "code",
   "execution_count": null,
   "id": "8290e8a3",
   "metadata": {},
   "outputs": [],
   "source": [
    "bar_plot('untargeted', 'byzantines')"
   ]
  },
  {
   "cell_type": "code",
   "execution_count": null,
   "id": "44496118",
   "metadata": {},
   "outputs": [],
   "source": []
  },
  {
   "cell_type": "code",
   "execution_count": null,
   "id": "736e5ff9",
   "metadata": {},
   "outputs": [],
   "source": []
  },
  {
   "cell_type": "code",
   "execution_count": null,
   "id": "50f8b8d6",
   "metadata": {},
   "outputs": [],
   "source": []
  }
 ],
 "metadata": {
  "kernelspec": {
   "display_name": "Python 3 (ipykernel)",
   "language": "python",
   "name": "python3"
  },
  "language_info": {
   "codemirror_mode": {
    "name": "ipython",
    "version": 3
   },
   "file_extension": ".py",
   "mimetype": "text/x-python",
   "name": "python",
   "nbconvert_exporter": "python",
   "pygments_lexer": "ipython3",
   "version": "3.9.6"
  }
 },
 "nbformat": 4,
 "nbformat_minor": 5
}
