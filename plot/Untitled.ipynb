{
 "cells": [
  {
   "cell_type": "code",
   "execution_count": 1,
   "id": "9f9d91ad",
   "metadata": {},
   "outputs": [],
   "source": [
    "import matplotlib.pyplot as plt\n",
    "import pandas as pd\n",
    "import seaborn as sns"
   ]
  },
  {
   "cell_type": "code",
   "execution_count": 2,
   "id": "6275e434",
   "metadata": {},
   "outputs": [],
   "source": [
    "%matplotlib inline"
   ]
  },
  {
   "cell_type": "code",
   "execution_count": 6,
   "id": "7bc91db4",
   "metadata": {},
   "outputs": [],
   "source": [
    "byzantine_rate_list = [0.0, 0.1, 0.2, 0.3, 0.4, 0.5, 0.6, 0.7, 0.8, 0.9]\n",
    "imbalance_rate_list = [0.1, 0.2, 0.5, 0.6, 0.7, 0.8]\n",
    "\n",
    "defense_type_list = ['Median', \"TrimmedMean\"]\n",
    "attack_type_list = ['random', 'untargeted']\n",
    "dataset_type_list = ['mnist', 'fashion']"
   ]
  },
  {
   "cell_type": "code",
   "execution_count": 9,
   "id": "6c5c2cdb",
   "metadata": {},
   "outputs": [],
   "source": [
    "def get_table_data(defense_type, attack_type, dataset_type):\n",
    "    folder_addr = defense_type+\"/\"+attack_type+\"/\"+dataset_type+\"/\"\n",
    "    \n",
    "    imbalances_accuracy_df = pd.read_csv(folder_addr+\"0.5.csv\", index_col=0)\n",
    "    imbalances_accuracy_list = list(imbalances_accuracy_df.iloc[:,-1])\n",
    "    print(imbalances_accuracy_list)"
   ]
  },
  {
   "cell_type": "code",
   "execution_count": 10,
   "id": "3a2a0413",
   "metadata": {},
   "outputs": [
    {
     "name": "stdout",
     "output_type": "stream",
     "text": [
      "[13.469145569620252, 10.670490506329116, 31.05221518987342, 24.61431962025317, 37.045094936708864, 14.754746835443038]\n",
      "[32.980617088607595, 38.97349683544304, 25.059335443037973, 27.91732594936709, 33.60363924050633, 43.25553797468354]\n",
      "[48.160601265822784, 58.09928797468354, 45.82674050632912, 44.94659810126582, 45.26305379746835, 36.19462025316456]\n",
      "[21.98378164556962, 29.855617088607595, 43.18631329113924, 40.87223101265823, 45.0059335443038, 30.34018987341772]\n",
      "[9.187104430379748]\n",
      "[72.68591772151899, 62.28243670886076, 63.70648734177215, 70.6882911392405, 63.66693037974684, 64.76463607594937]\n",
      "[51.80973101265823]\n",
      "[37.9746835443038, 52.67998417721519, 27.759098101265824, 53.2931170886076, 57.5059335443038, 57.09058544303797]\n"
     ]
    }
   ],
   "source": [
    "for defense_type in defense_type_list:\n",
    "    for attack_type in attack_type_list:\n",
    "        for dataset_type in dataset_type_list:\n",
    "            get_table_data(defense_type, attack_type, dataset_type)"
   ]
  },
  {
   "cell_type": "code",
   "execution_count": null,
   "id": "163ba5e1",
   "metadata": {},
   "outputs": [],
   "source": []
  }
 ],
 "metadata": {
  "kernelspec": {
   "display_name": "Python 3 (ipykernel)",
   "language": "python",
   "name": "python3"
  },
  "language_info": {
   "codemirror_mode": {
    "name": "ipython",
    "version": 3
   },
   "file_extension": ".py",
   "mimetype": "text/x-python",
   "name": "python",
   "nbconvert_exporter": "python",
   "pygments_lexer": "ipython3",
   "version": "3.9.6"
  }
 },
 "nbformat": 4,
 "nbformat_minor": 5
}
