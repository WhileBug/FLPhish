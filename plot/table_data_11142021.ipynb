{
 "cells": [
  {
   "cell_type": "code",
   "execution_count": 1,
   "id": "57be280c",
   "metadata": {},
   "outputs": [],
   "source": [
    "import pandas as pd\n",
    "import numpy as np\n",
    "from matplotlib import pyplot as plt\n",
    "%matplotlib inline"
   ]
  },
  {
   "cell_type": "code",
   "execution_count": 9,
   "id": "763a1ca2",
   "metadata": {},
   "outputs": [],
   "source": [
    "imbalance_degree_list = [0.1, 0.2, 0.3, 0.4, 0.5, 0.6, 0.7, 0.8, 0.9]\n",
    "attack_rate_list = [0.0, 0.1, 0.2, 0.3, 0.4, 0.5, 0.6, 0.7, 0.8, 0.9]"
   ]
  },
  {
   "cell_type": "markdown",
   "id": "c9170ee4",
   "metadata": {},
   "source": [
    "# imbalance=0.2&不同的byzantine fraction&untargeted攻击"
   ]
  },
  {
   "cell_type": "markdown",
   "id": "a6799d9a",
   "metadata": {},
   "source": [
    "## mnist 数据集"
   ]
  },
  {
   "cell_type": "code",
   "execution_count": 10,
   "id": "f343a12f",
   "metadata": {},
   "outputs": [],
   "source": [
    "mnist_df_list = []\n",
    "for untargeted_rate in attack_rate_list:\n",
    "    temp_df = pd.read_csv(\"untargeted/mnist/\"+str(untargeted_rate)+\".csv\", index_col = 0)\n",
    "    temp_df.index = imbalance_degree_list\n",
    "    temp_df.columns = [1,2,3,4,5,6,7,8,9,10]\n",
    "    mnist_df_list.append(temp_df)"
   ]
  },
  {
   "cell_type": "code",
   "execution_count": 17,
   "id": "373cbdff",
   "metadata": {},
   "outputs": [],
   "source": [
    "imbalance_2_acc_list = []\n",
    "for mnist_df in mnist_df_list:\n",
    "    imbalance_2_acc_list.append(mnist_df[10][0.2])"
   ]
  },
  {
   "cell_type": "code",
   "execution_count": 18,
   "id": "e3adfc6a",
   "metadata": {},
   "outputs": [
    {
     "data": {
      "text/plain": [
       "[98.59572784810126,\n",
       " 98.63528481012658,\n",
       " 97.9331487341772,\n",
       " 97.40901898734175,\n",
       " 81.12143987341773,\n",
       " 87.25276898734177,\n",
       " 18.43354430379747,\n",
       " 47.1815664556962,\n",
       " 0.5142405063291139,\n",
       " 0.5735759493670886]"
      ]
     },
     "execution_count": 18,
     "metadata": {},
     "output_type": "execute_result"
    }
   ],
   "source": [
    "imbalance_2_acc_list"
   ]
  },
  {
   "cell_type": "markdown",
   "id": "b9c2f6d0",
   "metadata": {},
   "source": [
    "## fashion-mnist 数据集"
   ]
  },
  {
   "cell_type": "code",
   "execution_count": 21,
   "id": "7b8e0cd0",
   "metadata": {},
   "outputs": [],
   "source": [
    "fashion_df_list = []\n",
    "for untargeted_rate in attack_rate_list:\n",
    "    temp_df = pd.read_csv(\"untargeted/fashion-mnist/\"+str(untargeted_rate)+\".csv\", index_col = 0)\n",
    "    temp_df.index = imbalance_degree_list\n",
    "    temp_df.columns = [1,2,3,4,5,6,7,8,9,10]\n",
    "    fashion_df_list.append(temp_df)"
   ]
  },
  {
   "cell_type": "code",
   "execution_count": 22,
   "id": "e6d767bc",
   "metadata": {},
   "outputs": [],
   "source": [
    "imbalance_2_acc_list = []\n",
    "for fashion_df in fashion_df_list:\n",
    "    imbalance_2_acc_list.append(fashion_df[10][0.2])"
   ]
  },
  {
   "cell_type": "code",
   "execution_count": 23,
   "id": "0d70e467",
   "metadata": {},
   "outputs": [
    {
     "data": {
      "text/plain": [
       "[87.0253164556962,\n",
       " 87.24287974683544,\n",
       " 86.14517405063292,\n",
       " 87.03520569620254,\n",
       " 82.55537974683544,\n",
       " 70.10482594936708,\n",
       " 10.106803797468354,\n",
       " 9.869462025316457,\n",
       " 0.2274525316455696,\n",
       " 0.2571202531645569]"
      ]
     },
     "execution_count": 23,
     "metadata": {},
     "output_type": "execute_result"
    }
   ],
   "source": [
    "imbalance_2_acc_list"
   ]
  },
  {
   "cell_type": "markdown",
   "id": "c3a9e855",
   "metadata": {},
   "source": [
    "## CIFAR数据集"
   ]
  },
  {
   "cell_type": "code",
   "execution_count": 24,
   "id": "a6e47807",
   "metadata": {},
   "outputs": [],
   "source": [
    "cifar_df_list = []\n",
    "for untargeted_rate in attack_rate_list:\n",
    "    temp_df = pd.read_csv(\"untargeted/cifar/\"+str(untargeted_rate)+\".csv\", index_col = 0)\n",
    "    temp_df.index = imbalance_degree_list\n",
    "    temp_df.columns = [1,2,3,4,5,6,7,8,9,10]\n",
    "    cifar_df_list.append(temp_df)"
   ]
  },
  {
   "cell_type": "code",
   "execution_count": 25,
   "id": "caa1045b",
   "metadata": {},
   "outputs": [],
   "source": [
    "imbalance_2_acc_list = []\n",
    "for cifar_df in cifar_df_list:\n",
    "    imbalance_2_acc_list.append(cifar_df[10][0.2])"
   ]
  },
  {
   "cell_type": "code",
   "execution_count": 26,
   "id": "6bd771fe",
   "metadata": {},
   "outputs": [
    {
     "data": {
      "text/plain": [
       "[49.37697784810127,\n",
       " 50.6428006329114,\n",
       " 45.925632911392405,\n",
       " 46.627768987341774,\n",
       " 34.14754746835443,\n",
       " 38.736155063291136,\n",
       " 11.71875,\n",
       " 10.334256329113924,\n",
       " 3.738132911392405,\n",
       " 4.074367088607595]"
      ]
     },
     "execution_count": 26,
     "metadata": {},
     "output_type": "execute_result"
    }
   ],
   "source": [
    "imbalance_2_acc_list"
   ]
  },
  {
   "cell_type": "markdown",
   "id": "d04fdf8b",
   "metadata": {},
   "source": [
    "# imbalance=0.2&不同的byzantine fraction&random攻击"
   ]
  },
  {
   "cell_type": "markdown",
   "id": "15f50488",
   "metadata": {},
   "source": [
    "## mnist 数据集"
   ]
  },
  {
   "cell_type": "code",
   "execution_count": 27,
   "id": "571d0bd7",
   "metadata": {},
   "outputs": [],
   "source": [
    "mnist_df_list = []\n",
    "for untargeted_rate in attack_rate_list:\n",
    "    temp_df = pd.read_csv(\"random/mnist/\"+str(untargeted_rate)+\".csv\", index_col = 0)\n",
    "    temp_df.index = imbalance_degree_list\n",
    "    temp_df.columns = [1,2,3,4,5,6,7,8,9,10]\n",
    "    mnist_df_list.append(temp_df)"
   ]
  },
  {
   "cell_type": "code",
   "execution_count": 28,
   "id": "412a1ce8",
   "metadata": {},
   "outputs": [],
   "source": [
    "imbalance_2_acc_list = []\n",
    "for mnist_df in mnist_df_list:\n",
    "    imbalance_2_acc_list.append(mnist_df[10][0.2])"
   ]
  },
  {
   "cell_type": "code",
   "execution_count": 29,
   "id": "34c4dd7f",
   "metadata": {},
   "outputs": [
    {
     "data": {
      "text/plain": [
       "[98.5363924050633,\n",
       " 98.63528481012658,\n",
       " 95.70806962025316,\n",
       " 83.92009493670886,\n",
       " 15.110759493670884,\n",
       " 40.06131329113924,\n",
       " 61.50118670886076,\n",
       " 40.427215189873415,\n",
       " 9.760680379746836,\n",
       " 17.19738924050633]"
      ]
     },
     "execution_count": 29,
     "metadata": {},
     "output_type": "execute_result"
    }
   ],
   "source": [
    "imbalance_2_acc_list"
   ]
  },
  {
   "cell_type": "markdown",
   "id": "f364d309",
   "metadata": {},
   "source": [
    "## fashion-mnist 数据集"
   ]
  },
  {
   "cell_type": "code",
   "execution_count": 30,
   "id": "376e6d5b",
   "metadata": {},
   "outputs": [],
   "source": [
    "fashion_df_list = []\n",
    "for untargeted_rate in attack_rate_list:\n",
    "    temp_df = pd.read_csv(\"random/fashion-mnist/\"+str(untargeted_rate)+\".csv\", index_col = 0)\n",
    "    temp_df.index = imbalance_degree_list\n",
    "    temp_df.columns = [1,2,3,4,5,6,7,8,9,10]\n",
    "    fashion_df_list.append(temp_df)"
   ]
  },
  {
   "cell_type": "code",
   "execution_count": 31,
   "id": "329a43d7",
   "metadata": {},
   "outputs": [],
   "source": [
    "imbalance_2_acc_list = []\n",
    "for fashion_df in fashion_df_list:\n",
    "    imbalance_2_acc_list.append(fashion_df[10][0.2])"
   ]
  },
  {
   "cell_type": "code",
   "execution_count": 32,
   "id": "628361fe",
   "metadata": {},
   "outputs": [
    {
     "data": {
      "text/plain": [
       "[86.86708860759494,\n",
       " 88.25158227848101,\n",
       " 82.82238924050633,\n",
       " 84.74090189873418,\n",
       " 79.27215189873418,\n",
       " 76.9382911392405,\n",
       " 59.52333860759494,\n",
       " 68.66099683544304,\n",
       " 53.82713607594937,\n",
       " 36.25395569620253]"
      ]
     },
     "execution_count": 32,
     "metadata": {},
     "output_type": "execute_result"
    }
   ],
   "source": [
    "imbalance_2_acc_list"
   ]
  },
  {
   "cell_type": "markdown",
   "id": "8563b47a",
   "metadata": {},
   "source": [
    "# byzantine fraction=0.5&不同的imbalance&untargeted攻击"
   ]
  },
  {
   "cell_type": "markdown",
   "id": "192b9e71",
   "metadata": {},
   "source": [
    "## mnist 数据集"
   ]
  },
  {
   "cell_type": "code",
   "execution_count": 35,
   "id": "f91e122a",
   "metadata": {},
   "outputs": [],
   "source": [
    "temp_df = pd.read_csv(\"untargeted/mnist/0.5.csv\",index_col=0)\n",
    "temp_df.index = imbalance_degree_list\n",
    "temp_df.columns = [1,2,3,4,5,6,7,8,9,10]"
   ]
  },
  {
   "cell_type": "code",
   "execution_count": 40,
   "id": "f3d7e21a",
   "metadata": {},
   "outputs": [],
   "source": [
    "new_imbalance_degree_list = [0.1,0.2,0.5,0.6,0.7,0.8,0.9]\n",
    "fraction_5_acc_list = []\n",
    "for new_imbalance in new_imbalance_degree_list:\n",
    "    fraction_5_acc_list.append(temp_df[10][new_imbalance])"
   ]
  },
  {
   "cell_type": "code",
   "execution_count": 41,
   "id": "2d5c7b2f",
   "metadata": {},
   "outputs": [
    {
     "data": {
      "text/plain": [
       "[65.06131329113924,\n",
       " 87.25276898734177,\n",
       " 78.01621835443038,\n",
       " 80.28085443037975,\n",
       " 76.85917721518987,\n",
       " 66.39636075949367,\n",
       " 58.95965189873418]"
      ]
     },
     "execution_count": 41,
     "metadata": {},
     "output_type": "execute_result"
    }
   ],
   "source": [
    "fraction_5_acc_list"
   ]
  },
  {
   "cell_type": "markdown",
   "id": "8e13a650",
   "metadata": {},
   "source": [
    "## Fashion-Mnist数据集 "
   ]
  },
  {
   "cell_type": "code",
   "execution_count": 42,
   "id": "4eed3f0c",
   "metadata": {},
   "outputs": [],
   "source": [
    "temp_df = pd.read_csv(\"untargeted/fashion-mnist/0.5.csv\",index_col=0)\n",
    "temp_df.index = imbalance_degree_list\n",
    "temp_df.columns = [1,2,3,4,5,6,7,8,9,10]"
   ]
  },
  {
   "cell_type": "code",
   "execution_count": 43,
   "id": "3776aba0",
   "metadata": {},
   "outputs": [],
   "source": [
    "new_imbalance_degree_list = [0.1,0.2,0.5,0.6,0.7,0.8,0.9]\n",
    "fraction_5_acc_list = []\n",
    "for new_imbalance in new_imbalance_degree_list:\n",
    "    fraction_5_acc_list.append(temp_df[10][new_imbalance])"
   ]
  },
  {
   "cell_type": "code",
   "execution_count": 44,
   "id": "d5fdafdb",
   "metadata": {},
   "outputs": [
    {
     "data": {
      "text/plain": [
       "[71.42998417721519,\n",
       " 70.10482594936708,\n",
       " 67.0886075949367,\n",
       " 68.53243670886076,\n",
       " 67.98852848101266,\n",
       " 67.84018987341773,\n",
       " 55.10284810126582]"
      ]
     },
     "execution_count": 44,
     "metadata": {},
     "output_type": "execute_result"
    }
   ],
   "source": [
    "fraction_5_acc_list"
   ]
  },
  {
   "cell_type": "markdown",
   "id": "b20c7a0d",
   "metadata": {},
   "source": [
    "## Cifar数据集 "
   ]
  },
  {
   "cell_type": "code",
   "execution_count": 45,
   "id": "c65378b2",
   "metadata": {},
   "outputs": [],
   "source": [
    "temp_df = pd.read_csv(\"untargeted/cifar/0.5.csv\",index_col=0)\n",
    "temp_df.index = imbalance_degree_list\n",
    "temp_df.columns = [1,2,3,4,5,6,7,8,9,10]"
   ]
  },
  {
   "cell_type": "code",
   "execution_count": 46,
   "id": "6725b6f9",
   "metadata": {},
   "outputs": [],
   "source": [
    "new_imbalance_degree_list = [0.1,0.2,0.5,0.6,0.7,0.8,0.9]\n",
    "fraction_5_acc_list = []\n",
    "for new_imbalance in new_imbalance_degree_list:\n",
    "    fraction_5_acc_list.append(temp_df[10][new_imbalance])"
   ]
  },
  {
   "cell_type": "code",
   "execution_count": 47,
   "id": "d41748c4",
   "metadata": {},
   "outputs": [
    {
     "data": {
      "text/plain": [
       "[40.822784810126585,\n",
       " 38.736155063291136,\n",
       " 38.90427215189873,\n",
       " 34.14754746835443,\n",
       " 30.043512658227847,\n",
       " 29.746835443037973,\n",
       " 18.245648734177216]"
      ]
     },
     "execution_count": 47,
     "metadata": {},
     "output_type": "execute_result"
    }
   ],
   "source": [
    "fraction_5_acc_list"
   ]
  },
  {
   "cell_type": "markdown",
   "id": "36b7fe9b",
   "metadata": {},
   "source": [
    "# byzantine fraction=0.5&不同的imbalance&random攻击"
   ]
  },
  {
   "cell_type": "markdown",
   "id": "30e72d4c",
   "metadata": {},
   "source": [
    "## mnist数据集"
   ]
  },
  {
   "cell_type": "code",
   "execution_count": 48,
   "id": "aebfd546",
   "metadata": {},
   "outputs": [],
   "source": [
    "temp_df = pd.read_csv(\"random/mnist/0.5.csv\",index_col=0)\n",
    "temp_df.index = imbalance_degree_list\n",
    "temp_df.columns = [1,2,3,4,5,6,7,8,9,10]"
   ]
  },
  {
   "cell_type": "code",
   "execution_count": 49,
   "id": "8d7683c8",
   "metadata": {},
   "outputs": [],
   "source": [
    "new_imbalance_degree_list = [0.1,0.2,0.5,0.6,0.7,0.8,0.9]\n",
    "fraction_5_acc_list = []\n",
    "for new_imbalance in new_imbalance_degree_list:\n",
    "    fraction_5_acc_list.append(temp_df[10][new_imbalance])"
   ]
  },
  {
   "cell_type": "code",
   "execution_count": 50,
   "id": "599c1d16",
   "metadata": {},
   "outputs": [
    {
     "data": {
      "text/plain": [
       "[81.42800632911393,\n",
       " 40.06131329113924,\n",
       " 77.0371835443038,\n",
       " 37.50988924050633,\n",
       " 40.56566455696203,\n",
       " 58.217958860759495,\n",
       " 50.4746835443038]"
      ]
     },
     "execution_count": 50,
     "metadata": {},
     "output_type": "execute_result"
    }
   ],
   "source": [
    "fraction_5_acc_list"
   ]
  },
  {
   "cell_type": "markdown",
   "id": "479b2173",
   "metadata": {},
   "source": [
    "## fashion-mnist数据集"
   ]
  },
  {
   "cell_type": "code",
   "execution_count": 51,
   "id": "68cc93b7",
   "metadata": {},
   "outputs": [],
   "source": [
    "temp_df = pd.read_csv(\"random/fashion-mnist/0.5.csv\",index_col=0)\n",
    "temp_df.index = imbalance_degree_list\n",
    "temp_df.columns = [1,2,3,4,5,6,7,8,9,10]"
   ]
  },
  {
   "cell_type": "code",
   "execution_count": 52,
   "id": "31893b8f",
   "metadata": {},
   "outputs": [],
   "source": [
    "new_imbalance_degree_list = [0.1,0.2,0.5,0.6,0.7,0.8,0.9]\n",
    "fraction_5_acc_list = []\n",
    "for new_imbalance in new_imbalance_degree_list:\n",
    "    fraction_5_acc_list.append(temp_df[10][new_imbalance])"
   ]
  },
  {
   "cell_type": "code",
   "execution_count": 53,
   "id": "bee73316",
   "metadata": {},
   "outputs": [
    {
     "data": {
      "text/plain": [
       "[77.33386075949367,\n",
       " 76.9382911392405,\n",
       " 80.35996835443038,\n",
       " 69.56091772151899,\n",
       " 73.95174050632912,\n",
       " 60.82871835443038,\n",
       " 70.01582278481013]"
      ]
     },
     "execution_count": 53,
     "metadata": {},
     "output_type": "execute_result"
    }
   ],
   "source": [
    "fraction_5_acc_list"
   ]
  },
  {
   "cell_type": "markdown",
   "id": "abbb8166",
   "metadata": {},
   "source": [
    "## cifar数据集"
   ]
  },
  {
   "cell_type": "code",
   "execution_count": 54,
   "id": "5a46c5d9",
   "metadata": {},
   "outputs": [],
   "source": [
    "temp_df = pd.read_csv(\"random/cifar/0.5.csv\",index_col=0)\n",
    "temp_df.index = imbalance_degree_list\n",
    "temp_df.columns = [1,2,3,4,5,6,7,8,9,10]"
   ]
  },
  {
   "cell_type": "code",
   "execution_count": 55,
   "id": "029211ac",
   "metadata": {},
   "outputs": [],
   "source": [
    "new_imbalance_degree_list = [0.1,0.2,0.5,0.6,0.7,0.8,0.9]\n",
    "fraction_5_acc_list = []\n",
    "for new_imbalance in new_imbalance_degree_list:\n",
    "    fraction_5_acc_list.append(temp_df[10][new_imbalance])"
   ]
  },
  {
   "cell_type": "code",
   "execution_count": 56,
   "id": "4e2cb0d2",
   "metadata": {},
   "outputs": [
    {
     "data": {
      "text/plain": [
       "[45.04549050632912,\n",
       " 45.49050632911393,\n",
       " 40.84256329113924,\n",
       " 39.2306170886076,\n",
       " 38.13291139240506,\n",
       " 36.85719936708861,\n",
       " 17.889636075949365]"
      ]
     },
     "execution_count": 56,
     "metadata": {},
     "output_type": "execute_result"
    }
   ],
   "source": [
    "fraction_5_acc_list"
   ]
  },
  {
   "cell_type": "code",
   "execution_count": null,
   "id": "191867c1",
   "metadata": {},
   "outputs": [],
   "source": []
  }
 ],
 "metadata": {
  "kernelspec": {
   "display_name": "Python 3 (ipykernel)",
   "language": "python",
   "name": "python3"
  },
  "language_info": {
   "codemirror_mode": {
    "name": "ipython",
    "version": 3
   },
   "file_extension": ".py",
   "mimetype": "text/x-python",
   "name": "python",
   "nbconvert_exporter": "python",
   "pygments_lexer": "ipython3",
   "version": "3.9.6"
  }
 },
 "nbformat": 4,
 "nbformat_minor": 5
}
