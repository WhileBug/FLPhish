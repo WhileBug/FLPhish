{
 "cells": [
  {
   "cell_type": "code",
   "execution_count": 1,
   "id": "ce3f6b90",
   "metadata": {},
   "outputs": [],
   "source": [
    "import matplotlib.pyplot as plt\n",
    "import pandas as pd\n",
    "import seaborn as sns"
   ]
  },
  {
   "cell_type": "code",
   "execution_count": 2,
   "id": "fdd9f697",
   "metadata": {},
   "outputs": [],
   "source": [
    "%matplotlib inline"
   ]
  },
  {
   "cell_type": "code",
   "execution_count": 3,
   "id": "37de1b6f",
   "metadata": {},
   "outputs": [],
   "source": [
    "byzantine_rate_list = [0.0, 0.1, 0.2, 0.3, 0.4, 0.5, 0.6, 0.7, 0.8, 0.9]\n",
    "imbalance_rate_list = [0.1, 0.2, 0.5, 0.7, 0.8]"
   ]
  },
  {
   "cell_type": "markdown",
   "id": "c4346461",
   "metadata": {},
   "source": [
    "# 不同byzantine比例"
   ]
  },
  {
   "cell_type": "code",
   "execution_count": null,
   "id": "d4da0ad4",
   "metadata": {},
   "outputs": [],
   "source": [
    "def get_table(dataset, attack_type, defense_type)"
   ]
  }
 ],
 "metadata": {
  "kernelspec": {
   "display_name": "Python 3 (ipykernel)",
   "language": "python",
   "name": "python3"
  },
  "language_info": {
   "codemirror_mode": {
    "name": "ipython",
    "version": 3
   },
   "file_extension": ".py",
   "mimetype": "text/x-python",
   "name": "python",
   "nbconvert_exporter": "python",
   "pygments_lexer": "ipython3",
   "version": "3.9.6"
  }
 },
 "nbformat": 4,
 "nbformat_minor": 5
}
